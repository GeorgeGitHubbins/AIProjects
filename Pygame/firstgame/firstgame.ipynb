{
 "cells": [
  {
   "cell_type": "code",
   "execution_count": 1,
   "metadata": {},
   "outputs": [
    {
     "name": "stdout",
     "output_type": "stream",
     "text": [
      "pygame 2.5.2 (SDL 2.28.3, Python 3.11.5)\n",
      "Hello from the pygame community. https://www.pygame.org/contribute.html\n"
     ]
    }
   ],
   "source": [
    "import pygame\n",
    "from pygame.locals import *"
   ]
  },
  {
   "cell_type": "code",
   "execution_count": 11,
   "metadata": {},
   "outputs": [
    {
     "ename": "TypeError",
     "evalue": "list indices must be integers or slices, not float",
     "output_type": "error",
     "traceback": [
      "\u001b[1;31m---------------------------------------------------------------------------\u001b[0m",
      "\u001b[1;31mTypeError\u001b[0m                                 Traceback (most recent call last)",
      "Cell \u001b[1;32mIn[11], line 84\u001b[0m\n\u001b[0;32m     82\u001b[0m     cycle_counter \u001b[38;5;241m+\u001b[39m\u001b[38;5;241m=\u001b[39m sprite_cycle_speed\n\u001b[0;32m     83\u001b[0m \u001b[38;5;28;01melse\u001b[39;00m:\n\u001b[1;32m---> 84\u001b[0m     current_sprite \u001b[38;5;241m=\u001b[39m \u001b[43mmovement_sprites\u001b[49m\u001b[43m[\u001b[49m\u001b[43msprite_index\u001b[49m\u001b[43m]\u001b[49m  \u001b[38;5;66;03m# Moving sprite\u001b[39;00m\n\u001b[0;32m     86\u001b[0m \u001b[38;5;66;03m# Draw everything\u001b[39;00m\n\u001b[0;32m     87\u001b[0m screen\u001b[38;5;241m.\u001b[39mfill(white)  \u001b[38;5;66;03m# Set the background to white\u001b[39;00m\n",
      "\u001b[1;31mTypeError\u001b[0m: list indices must be integers or slices, not float"
     ]
    },
    {
     "ename": "",
     "evalue": "",
     "output_type": "error",
     "traceback": [
      "\u001b[1;31mThe Kernel crashed while executing code in the current cell or a previous cell. \n",
      "\u001b[1;31mPlease review the code in the cell(s) to identify a possible cause of the failure. \n",
      "\u001b[1;31mClick <a href='https://aka.ms/vscodeJupyterKernelCrash'>here</a> for more info. \n",
      "\u001b[1;31mView Jupyter <a href='command:jupyter.viewOutput'>log</a> for further details."
     ]
    }
   ],
   "source": [
    "# Initialize Pygame\n",
    "pygame.init()\n",
    "\n",
    "# Game constants\n",
    "SCREEN_WIDTH = 800\n",
    "SCREEN_HEIGHT = 600\n",
    "PLAYER_SCALE = 0.10  # Scale factor for the player\n",
    "\n",
    "# Create the game window\n",
    "screen = pygame.display.set_mode((SCREEN_WIDTH, SCREEN_HEIGHT))\n",
    "pygame.display.set_caption(\"Esteban Adventures\")\n",
    "\n",
    "# Load the sprite sequences\n",
    "movement_sprites = [\n",
    "    pygame.image.load(\"../Esteban.png\").convert_alpha(),\n",
    "    pygame.image.load(\"../EstebanSkew1.png\").convert_alpha(),\n",
    "    pygame.image.load(\"../EstebanSkew2.png\").convert_alpha(),\n",
    "]\n",
    "\n",
    "collision_sprites = [\n",
    "    pygame.image.load(\"../Esteban_ow.png\").convert_alpha(),\n",
    "    pygame.image.load(\"../Esteban_owSkew1.png\").convert_alpha(),\n",
    "    pygame.image.load(\"../Esteban_owSkew2.png\").convert_alpha(),\n",
    "]\n",
    "\n",
    "# Scale all the sprites\n",
    "def scale_sprites(sprites, scale):\n",
    "    scaled_sprites = []\n",
    "    for sprite in sprites:\n",
    "        width = int(sprite.get_width() * scale)\n",
    "        height = int(sprite.get_height() * scale)\n",
    "        scaled_sprites.append(pygame.transform.smoothscale(sprite, (width, height)))\n",
    "    return scaled_sprites\n",
    "\n",
    "movement_sprites = scale_sprites(movement_sprites, PLAYER_SCALE)\n",
    "collision_sprites = scale_sprites(collision_sprites, PLAYER_SCALE)\n",
    "\n",
    "# Create player and obstacle\n",
    "player = pygame.Rect(400, 300, movement_sprites[0].get_width(), movement_sprites[0].get_height())\n",
    "obstacle = pygame.Rect(200, 200, 100, 100)\n",
    "\n",
    "\n",
    "# Colors\n",
    "white = (255, 255, 255)\n",
    "\n",
    "# Game loop\n",
    "running = True\n",
    "sprite_index = 0  # To track current sprite in the sequence\n",
    "sprite_cycle_speed = 0.01  # Adjust this to control sprite cycling speed\n",
    "cycle_counter = 0  # Used to control sprite cycling\n",
    "\n",
    "while running:\n",
    "    for event in pygame.event.get():\n",
    "        if event.type == QUIT:\n",
    "            running = False\n",
    "\n",
    "    # Player movement\n",
    "    keys = pygame.key.get_pressed()\n",
    "    dx = dy = 0  # Movement delta\n",
    "    if keys[K_LEFT]:\n",
    "        dx = -1\n",
    "    if keys[K_RIGHT]:\n",
    "        dx = 1\n",
    "    if keys[K_UP]:\n",
    "        dy = -1\n",
    "    if keys[K_DOWN]:\n",
    "        dy = 1\n",
    "\n",
    "    # Move the player\n",
    "    player.x += dx\n",
    "    player.y += dy\n",
    "\n",
    "    # Update the sprite cycle\n",
    "    cycle_counter += sprite_cycle_speed*max(abs(dx), abs(dy), abs(dx)+abs(dy))\n",
    "    if cycle_counter >= 1:    \n",
    "        cycle_counter = 0\n",
    "    sprite_index = (sprite_index + cycle_counter) % len(movement_sprites)  # Loop through sprites\n",
    "\n",
    "    # Check for collisions\n",
    "    if player.colliderect(obstacle):\n",
    "        current_sprite = collision_sprites[sprite_index]  # Colliding sprite\n",
    "        cycle_counter += sprite_cycle_speed\n",
    "    else:\n",
    "        current_sprite = movement_sprites[sprite_index]  # Moving sprite\n",
    "\n",
    "    # Draw everything\n",
    "    screen.fill(white)  # Set the background to white\n",
    "    pygame.draw.rect(screen, (255, 0, 0), obstacle)  # Draw the obstacle\n",
    "    screen.blit(current_sprite, (player.x, player.y))  # Draw the player sprite\n",
    "\n",
    "    pygame.display.update()\n",
    "\n",
    "pygame.quit()\n"
   ]
  }
 ],
 "metadata": {
  "kernelspec": {
   "display_name": "Python 3",
   "language": "python",
   "name": "python3"
  },
  "language_info": {
   "codemirror_mode": {
    "name": "ipython",
    "version": 3
   },
   "file_extension": ".py",
   "mimetype": "text/x-python",
   "name": "python",
   "nbconvert_exporter": "python",
   "pygments_lexer": "ipython3",
   "version": "3.11.5"
  }
 },
 "nbformat": 4,
 "nbformat_minor": 2
}
